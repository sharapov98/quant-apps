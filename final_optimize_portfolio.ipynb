{
  "nbformat": 4,
  "nbformat_minor": 0,
  "metadata": {
    "language_info": {
      "codemirror_mode": {
        "name": "ipython",
        "version": 3
      },
      "file_extension": ".py",
      "mimetype": "text/x-python",
      "name": "python",
      "nbconvert_exporter": "python",
      "pygments_lexer": "ipython3",
      "version": "3.8.5-final"
    },
    "orig_nbformat": 2,
    "kernelspec": {
      "name": "python385jvsc74a57bd0dca0ade3e726a953b501b15e8e990130d2b7799f14cfd9f4271676035ebe5511",
      "display_name": "Python 3.8.5 64-bit ('base': conda)"
    },
    "colab": {
      "name": "final_optimize_portfolio.ipynb",
      "provenance": [],
      "collapsed_sections": []
    },
    "metadata": {
      "interpreter": {
        "hash": "5edc29c2ed010d6458d71a83433b383a96a8cbd3efe8531bc90c4b8a5b8bcec9"
      }
    }
  },
  "cells": [
    {
      "cell_type": "code",
      "metadata": {
        "id": "Z3YlSMvhxzkx",
        "colab": {
          "base_uri": "https://localhost:8080/"
        },
        "outputId": "3f913d53-9262-4ca9-b439-bc3c12625bd1"
      },
      "source": [
        "import datetime\n",
        "from datetime import date\n",
        "import numpy as np\n",
        "import pandas as pd\n",
        "import pandas_datareader as web\n",
        "import matplotlib.pyplot as plt\n",
        "%matplotlib inline\n",
        "import argparse\n",
        "from dateutil.relativedelta import relativedelta\n",
        "\n",
        "from matplotlib.ticker import FuncFormatter\n",
        "from pypfopt.efficient_frontier import EfficientFrontier\n",
        "from pypfopt import risk_models\n",
        "from pypfopt import expected_returns\n",
        "from pypfopt.cla import CLA\n",
        "from pypfopt import plotting\n",
        "from pypfopt import HRPOpt\n",
        "from pypfopt import discrete_allocation\n"
      ],
      "execution_count": 1,
      "outputs": []
    },
    {
      "cell_type": "code",
      "metadata": {
        "id": "5MOaTy8WOGIu"
      },
      "source": [
        "def last_day_month(any_day):\n",
        "  next_month = any_day.replace(day=28) + datetime.timedelta(days=4)\n",
        "  return next_month - datetime.timedelta(days=next_month.day)\n",
        "class Data_download_processing():\n",
        "  def __init__(self,backtest_mons, test_mons, stock_tickers):\n",
        "    self.backtest_mons=backtest_mons\n",
        "    self.test_mons=test_mons\n",
        "    if self.backtest_mons%test_mons!=0:\n",
        "      raise ValueError(\"backtest months has to be a multiple of test months\")\n",
        "    self.stock_tickers = stock_tickers\n",
        "  \n",
        "  def get_stock_data(self):\n",
        "    self.today_date = date.today()\n",
        "    self.start_date= (self.today_date - relativedelta(months=+self.backtest_mons)).replace(day=1)\n",
        "    self.start_date_str= (self.today_date - relativedelta(months=+self.backtest_mons)).replace(day=1).strftime('%Y-%m-%d')\n",
        "\n",
        "    self.stock_tickers_clean = self.stock_tickers.split(',')\n",
        "    thelen = len(self.stock_tickers_clean)\n",
        "    self.price_data = []\n",
        "    for ticker in range(thelen):\n",
        "      self.prices = web.DataReader(self.stock_tickers_clean[ticker], start=self.start_date_str, end = self.today_date, data_source='yahoo')\n",
        "      self.price_data.append(self.prices.assign(ticker=ticker)[['Adj Close']])\n",
        "    self.stocks_df = pd.concat(self.price_data, axis=1)\n",
        "    self.stocks_df.columns= self.stock_tickers_clean\n",
        "    return self.stocks_df\n",
        "  \n",
        "  def last_day_month(any_day):\n",
        "    next_month = any_day.replace(day=28) + datetime.timedelta(days=4)\n",
        "    # subtract the number of remaining 'overage' days to get last day of current month, or said programattically said, the previous day of the first of next month\n",
        "    return next_month - datetime.timedelta(days=next_month.day)\n",
        "  \n",
        "  def set_training_period(self):\n",
        "    self.training_end=(self.start_date - relativedelta(months=-(self.backtest_mons-self.test_mons))).replace(day=1) #training start is the same as start date. \n",
        "    self.training_end= last_day_month(self.training_end)\n",
        "    self.training_end_str=self.training_end.strftime('%Y-%m-%d')\n",
        "    mask=(self.stocks_df.index >= self.start_date_str) & (self.stocks_df.index <= self.training_end_str) #rename downloaded dataframe\n",
        "    self.train_data_2 = self.stocks_df.loc[mask]\n",
        "    return self.train_data_2\n",
        "\n",
        "  def set_test_period(self):\n",
        "    self.test_start=self.training_end + datetime.timedelta(days=2)\n",
        "    self.test_start_str=self.test_start.strftime('%Y-%m-%d')\n",
        "    self.test_end_str=last_day_of_month(self.test_start).strftime('%Y-%m-%d')\n",
        "    mask=(self.stocks_df.index >= self.test_start_str) & (self.stocks_df.index <= self.test_end_str) #rename downloaded dataframe\n",
        "    self.test_data_2 = self.stocks_df.loc[mask]\n",
        "    return self.test_data_2"
      ],
      "execution_count": 28,
      "outputs": []
    },
    {
      "cell_type": "code",
      "metadata": {
        "id": "8G7CIQ0p2HBx"
      },
      "source": [
        "class Optimise_model():\n",
        "  def __init__(self, optimiser,stocks_data_frame, aum):\n",
        "    self.optimiser=optimiser\n",
        "    self.stocks_data_frame=stocks_data_frame\n",
        "    self.aum=aum\n",
        "  \n",
        "  def mvo_optimiser(self):\n",
        "    mu = expected_returns.mean_historical_return(self.stocks_data_frame)\n",
        "    sigma = risk_models.sample_cov(self.stocks_data_frame)\n",
        "    ef = EfficientFrontier(mu, sigma, weight_bounds=(0,1))\n",
        "    weights = ef.min_volatility()\n",
        "    cleaned_weights = ef.clean_weights()\n",
        "    mvo_performance = ef.portfolio_performance()\n",
        "    latest_prices = discrete_allocation.get_latest_prices(self.stocks_data_frame)\n",
        "    allocation_maxs, rem_maxs = discrete_allocation.DiscreteAllocation(cleaned_weights, latest_prices, total_portfolio_value=self.aum).lp_portfolio()\n",
        "    return cleaned_weights, mvo_performance, allocation_maxs\n",
        "\n",
        "  def msr_optimiser(self):\n",
        "    mu = expected_returns.mean_historical_return(self.stocks_data_frame)\n",
        "    sigma = risk_models.sample_cov(self.stocks_data_frame)\n",
        "    ef = EfficientFrontier(mu, sigma, weight_bounds=(0,1))\n",
        "    weights = ef.max_sharpe()\n",
        "    cleaned_weights = ef.clean_weights()\n",
        "    msr_performance = ef.portfolio_performance()\n",
        "    latest_prices = discrete_allocation.get_latest_prices(self.stocks_data_frame)\n",
        "    allocation_maxs, rem_maxs = discrete_allocation.DiscreteAllocation(cleaned_weights, latest_prices, total_portfolio_value=self.aum).lp_portfolio()\n",
        "    return cleaned_weights, msr_performance, allocation_maxs\n",
        "\n",
        "  def hrp_optimiser(self):\n",
        "    hrp=HRPOpt(self.stocks_data_frame)\n",
        "    hrp.optimize()\n",
        "    cleaned_weights = ef.clean_weights()\n",
        "    hrp_performance=hrp.portfolio_performance()\n",
        "    plotting.plot_efficient_frontier(hrp, show_fig=(TO_PLOT==True))\n",
        "    latest_prices = discrete_allocation.get_latest_prices(self.stocks_data_frame)\n",
        "    allocation_maxs, rem_maxs = discrete_allocation.DiscreteAllocation(cleaned_weights, latest_prices, total_portfolio_value=self.aum).lp_portfolio()\n",
        "    return cleaned_weights, msr_performance, allocation_maxs\n",
        " \n",
        "  def optimise_portfolio(self):\n",
        "    if self.optimiser==\"mvo\":\n",
        "      weights, performance, allocation_maxs=self.mvo_optimiser()\n",
        "    if self.optimiser==\"msr\":\n",
        "      weights, performance, allocation_maxs=self.msr_optimiser()\n",
        "    if self.optimiser==\"hrp\":\n",
        "      weights, performance, allocation_maxs=self.hrp_optimiser()\n",
        "    return weights, performance, allocation_maxs"
      ],
      "execution_count": 29,
      "outputs": []
    },
    {
      "cell_type": "code",
      "metadata": {
        "id": "bxHolaa02KFs"
      },
      "source": [
        "class Backtest_stats():\n",
        "  def __init__ (self, stocks_dataframe_to_backtest, portfolio_weights, test_months): #test months argument should be initialised in the object already. this needs fix.\n",
        "    self.stocks_dataframe_to_backtest=stocks_dataframe_to_backtest\n",
        "    self.portfolio_weights=portfolio_weights\n",
        "    self.test_months=test_months\n",
        "\n",
        "  def get_annualized_returns(self):\n",
        "    self.daily_returns = self.stocks_dataframe_to_backtest.iloc[0:].pct_change()*100\n",
        "    self.avg_daily_returns = self.daily_returns.mean()\n",
        "    portfolio_return = []\n",
        "    weightage = list(self.portfolio_weights.values())\n",
        "    for i in range(len(self.avg_daily_returns)):\n",
        "      portfolio_return.append(weightage[i]*self.avg_daily_returns[i])             #this multiplication is currently the percentage, make it to portfolio weights\n",
        "    self.annualized_returns=(1+sum(portfolio_return))**(12/self.test_months)-1\n",
        "    return self.annualized_returns\n",
        "\n",
        "  def get_annualized_volatility(self):\n",
        "    #daily_returns = self.daily_returns()\n",
        "    self.daily_std = self.daily_returns.std()\n",
        "    portfolio_std = []\n",
        "    weightage = list(self.portfolio_weights.values())\n",
        "    for i in range(len(self.daily_std)):\n",
        "      portfolio_std.append(weightage[i]*self.daily_std[i])\n",
        "    annualized_std = sum(portfolio_std) * 252 ** 0.5\n",
        "    return annualized_std\n",
        "\n",
        "  def get_sharpe_ratio(self):\n",
        "    #daily_returns = self.daily_returns()\n",
        "    self.sharpe_ratio = (self.avg_daily_returns-(0.01))/self.daily_std\n",
        "    portfolio_sharpe = []\n",
        "    weightage = list(self.portfolio_weights.values())\n",
        "    for i in range(len(self.sharpe_ratio)):\n",
        "      portfolio_sharpe.append(weightage[i]*self.sharpe_ratio[i])\n",
        "    portfolio_sharpe=sum(portfolio_sharpe)\n",
        "    return portfolio_sharpe"
      ],
      "execution_count": 30,
      "outputs": []
    },
    {
      "cell_type": "code",
      "metadata": {
        "colab": {
          "base_uri": "https://localhost:8080/"
        },
        "id": "lmEAXHDvdLC3",
        "outputId": "892b2ce0-ca3a-4b04-a54a-0403b1fb0d6d"
      },
      "source": [
        "#get data and split to train test \n",
        "data_ch2=Data_download_processing(12,4,\"IGM,XSW,ISCV\")\n",
        "data_ch2.get_stock_data()\n",
        "data_ch_train=data_ch2.set_training_period()\n",
        "data_ch_test=data_ch2.set_test_period()\n",
        "\n",
        "optimise_obj=Optimise_model(\"mvo\", data_ch_train,10000)\n",
        "weights,performance,stocks_needed=optimise_obj.optimise_portfolio()                                              #weights assigns 1 to one stock and zero to rest. this needs fix. \n",
        "\n",
        "print(\"Expected annual returns\", performance[0], \"%\")\n",
        "print(\"Expected annual volatility\", performance[1])\n",
        "print(\"Expected sharpe ratio\", performance[2])\n",
        "\n",
        "backtest_obj=Backtest_stats(data_ch_test, weights, 4)\n",
        "returns= backtest_obj.get_annualized_returns()\n",
        "volatility= backtest_obj.get_annualized_volatility()\n",
        "sharpe= backtest_obj.get_sharpe_ratio()\n",
        "print(\"Realised Annualised return: \", returns,\"%\")\n",
        "print(\"Realised Annual Volatility: \",volatility)\n",
        "print(\"Realised Sharpe Ratio:\", sharpe)\n",
        "\n",
        "stocks_needed.keys()\n",
        "for key, value in stocks_needed.items():\n",
        "  print(\"stocks needed:\",\n",
        "        key, value)"
      ],
      "execution_count": 32,
      "outputs": [
        {
          "output_type": "error",
          "ename": "TypeError",
          "evalue": "last_day_month() takes 1 positional argument but 2 were given",
          "traceback": [
            "\u001b[0;31m---------------------------------------------------------------------------\u001b[0m",
            "\u001b[0;31mTypeError\u001b[0m                                 Traceback (most recent call last)",
            "\u001b[0;32m<ipython-input-32-8dedaba5d438>\u001b[0m in \u001b[0;36m<module>\u001b[0;34m\u001b[0m\n\u001b[1;32m      2\u001b[0m \u001b[0mdata_ch2\u001b[0m\u001b[0;34m=\u001b[0m\u001b[0mData_download_processing\u001b[0m\u001b[0;34m(\u001b[0m\u001b[0;36m12\u001b[0m\u001b[0;34m,\u001b[0m\u001b[0;36m4\u001b[0m\u001b[0;34m,\u001b[0m\u001b[0;34m\"IGM,XSW,ISCV\"\u001b[0m\u001b[0;34m)\u001b[0m\u001b[0;34m\u001b[0m\u001b[0;34m\u001b[0m\u001b[0m\n\u001b[1;32m      3\u001b[0m \u001b[0mdata_ch2\u001b[0m\u001b[0;34m.\u001b[0m\u001b[0mget_stock_data\u001b[0m\u001b[0;34m(\u001b[0m\u001b[0;34m)\u001b[0m\u001b[0;34m\u001b[0m\u001b[0;34m\u001b[0m\u001b[0m\n\u001b[0;32m----> 4\u001b[0;31m \u001b[0mdata_ch_train\u001b[0m\u001b[0;34m=\u001b[0m\u001b[0mdata_ch2\u001b[0m\u001b[0;34m.\u001b[0m\u001b[0mset_training_period\u001b[0m\u001b[0;34m(\u001b[0m\u001b[0;34m)\u001b[0m\u001b[0;34m\u001b[0m\u001b[0;34m\u001b[0m\u001b[0m\n\u001b[0m\u001b[1;32m      5\u001b[0m \u001b[0mdata_ch_test\u001b[0m\u001b[0;34m=\u001b[0m\u001b[0mdata_ch2\u001b[0m\u001b[0;34m.\u001b[0m\u001b[0mset_test_period\u001b[0m\u001b[0;34m(\u001b[0m\u001b[0;34m)\u001b[0m\u001b[0;34m\u001b[0m\u001b[0;34m\u001b[0m\u001b[0m\n\u001b[1;32m      6\u001b[0m \u001b[0;34m\u001b[0m\u001b[0m\n",
            "\u001b[0;32m<ipython-input-28-ad4cfd70cb41>\u001b[0m in \u001b[0;36mset_training_period\u001b[0;34m(self)\u001b[0m\n\u001b[1;32m     29\u001b[0m   \u001b[0;32mdef\u001b[0m \u001b[0mset_training_period\u001b[0m\u001b[0;34m(\u001b[0m\u001b[0mself\u001b[0m\u001b[0;34m)\u001b[0m\u001b[0;34m:\u001b[0m\u001b[0;34m\u001b[0m\u001b[0;34m\u001b[0m\u001b[0m\n\u001b[1;32m     30\u001b[0m     \u001b[0mself\u001b[0m\u001b[0;34m.\u001b[0m\u001b[0mtraining_end\u001b[0m\u001b[0;34m=\u001b[0m\u001b[0;34m(\u001b[0m\u001b[0mself\u001b[0m\u001b[0;34m.\u001b[0m\u001b[0mstart_date\u001b[0m \u001b[0;34m-\u001b[0m \u001b[0mrelativedelta\u001b[0m\u001b[0;34m(\u001b[0m\u001b[0mmonths\u001b[0m\u001b[0;34m=\u001b[0m\u001b[0;34m-\u001b[0m\u001b[0;34m(\u001b[0m\u001b[0mself\u001b[0m\u001b[0;34m.\u001b[0m\u001b[0mbacktest_mons\u001b[0m\u001b[0;34m-\u001b[0m\u001b[0mself\u001b[0m\u001b[0;34m.\u001b[0m\u001b[0mtest_mons\u001b[0m\u001b[0;34m)\u001b[0m\u001b[0;34m)\u001b[0m\u001b[0;34m)\u001b[0m\u001b[0;34m.\u001b[0m\u001b[0mreplace\u001b[0m\u001b[0;34m(\u001b[0m\u001b[0mday\u001b[0m\u001b[0;34m=\u001b[0m\u001b[0;36m1\u001b[0m\u001b[0;34m)\u001b[0m \u001b[0;31m#training start is the same as start date.\u001b[0m\u001b[0;34m\u001b[0m\u001b[0;34m\u001b[0m\u001b[0m\n\u001b[0;32m---> 31\u001b[0;31m     \u001b[0mself\u001b[0m\u001b[0;34m.\u001b[0m\u001b[0mtraining_end\u001b[0m\u001b[0;34m=\u001b[0m \u001b[0mself\u001b[0m\u001b[0;34m.\u001b[0m\u001b[0mlast_day_month\u001b[0m\u001b[0;34m(\u001b[0m\u001b[0mself\u001b[0m\u001b[0;34m.\u001b[0m\u001b[0mtraining_end\u001b[0m\u001b[0;34m)\u001b[0m\u001b[0;34m\u001b[0m\u001b[0;34m\u001b[0m\u001b[0m\n\u001b[0m\u001b[1;32m     32\u001b[0m     \u001b[0mself\u001b[0m\u001b[0;34m.\u001b[0m\u001b[0mtraining_end_str\u001b[0m\u001b[0;34m=\u001b[0m\u001b[0mself\u001b[0m\u001b[0;34m.\u001b[0m\u001b[0mtraining_end\u001b[0m\u001b[0;34m.\u001b[0m\u001b[0mstrftime\u001b[0m\u001b[0;34m(\u001b[0m\u001b[0;34m'%Y-%m-%d'\u001b[0m\u001b[0;34m)\u001b[0m\u001b[0;34m\u001b[0m\u001b[0;34m\u001b[0m\u001b[0m\n\u001b[1;32m     33\u001b[0m     \u001b[0mmask\u001b[0m\u001b[0;34m=\u001b[0m\u001b[0;34m(\u001b[0m\u001b[0mself\u001b[0m\u001b[0;34m.\u001b[0m\u001b[0mstocks_df\u001b[0m\u001b[0;34m.\u001b[0m\u001b[0mindex\u001b[0m \u001b[0;34m>=\u001b[0m \u001b[0mself\u001b[0m\u001b[0;34m.\u001b[0m\u001b[0mstart_date_str\u001b[0m\u001b[0;34m)\u001b[0m \u001b[0;34m&\u001b[0m \u001b[0;34m(\u001b[0m\u001b[0mself\u001b[0m\u001b[0;34m.\u001b[0m\u001b[0mstocks_df\u001b[0m\u001b[0;34m.\u001b[0m\u001b[0mindex\u001b[0m \u001b[0;34m<=\u001b[0m \u001b[0mself\u001b[0m\u001b[0;34m.\u001b[0m\u001b[0mtraining_end_str\u001b[0m\u001b[0;34m)\u001b[0m \u001b[0;31m#rename downloaded dataframe\u001b[0m\u001b[0;34m\u001b[0m\u001b[0;34m\u001b[0m\u001b[0m\n",
            "\u001b[0;31mTypeError\u001b[0m: last_day_month() takes 1 positional argument but 2 were given"
          ]
        }
      ]
    },
    {
      "cell_type": "markdown",
      "metadata": {
        "id": "Apn5TguTemU0"
      },
      "source": [
        "To add in above code: \n",
        "2. Cross validation and combinatorial validation\n",
        "3. plot"
      ]
    },
    {
      "cell_type": "code",
      "execution_count": 39,
      "metadata": {},
      "outputs": [
        {
          "output_type": "error",
          "ename": "TypeError",
          "evalue": "last_day_month() takes 1 positional argument but 2 were given",
          "traceback": [
            "\u001b[0;31m---------------------------------------------------------------------------\u001b[0m",
            "\u001b[0;31mTypeError\u001b[0m                                 Traceback (most recent call last)",
            "\u001b[0;32m<ipython-input-39-e63592c6edb3>\u001b[0m in \u001b[0;36m<module>\u001b[0;34m\u001b[0m\n\u001b[1;32m      1\u001b[0m \u001b[0mdata_ch2\u001b[0m\u001b[0;34m=\u001b[0m\u001b[0mData_download_processing\u001b[0m\u001b[0;34m(\u001b[0m\u001b[0;36m12\u001b[0m\u001b[0;34m,\u001b[0m\u001b[0;36m4\u001b[0m\u001b[0;34m,\u001b[0m\u001b[0;34m\"IGM,XSW,ISCV\"\u001b[0m\u001b[0;34m)\u001b[0m\u001b[0;34m\u001b[0m\u001b[0;34m\u001b[0m\u001b[0m\n\u001b[1;32m      2\u001b[0m \u001b[0mdata_ch2\u001b[0m\u001b[0;34m.\u001b[0m\u001b[0mget_stock_data\u001b[0m\u001b[0;34m(\u001b[0m\u001b[0;34m)\u001b[0m\u001b[0;34m\u001b[0m\u001b[0;34m\u001b[0m\u001b[0m\n\u001b[0;32m----> 3\u001b[0;31m \u001b[0mdata_ch_train\u001b[0m\u001b[0;34m=\u001b[0m\u001b[0mdata_ch2\u001b[0m\u001b[0;34m.\u001b[0m\u001b[0mset_training_period\u001b[0m\u001b[0;34m(\u001b[0m\u001b[0;34m)\u001b[0m\u001b[0;34m\u001b[0m\u001b[0;34m\u001b[0m\u001b[0m\n\u001b[0m\u001b[1;32m      4\u001b[0m \u001b[0mdata_ch_test\u001b[0m\u001b[0;34m=\u001b[0m\u001b[0mdata_ch2\u001b[0m\u001b[0;34m.\u001b[0m\u001b[0mset_test_period\u001b[0m\u001b[0;34m(\u001b[0m\u001b[0;34m)\u001b[0m\u001b[0;34m\u001b[0m\u001b[0;34m\u001b[0m\u001b[0m\n\u001b[1;32m      5\u001b[0m \u001b[0mdaily_returns\u001b[0m \u001b[0;34m=\u001b[0m \u001b[0mdata_ch_test\u001b[0m\u001b[0;34m.\u001b[0m\u001b[0miloc\u001b[0m\u001b[0;34m[\u001b[0m\u001b[0;36m0\u001b[0m\u001b[0;34m:\u001b[0m\u001b[0;34m]\u001b[0m\u001b[0;34m.\u001b[0m\u001b[0mpct_change\u001b[0m\u001b[0;34m(\u001b[0m\u001b[0;34m)\u001b[0m\u001b[0;34m*\u001b[0m\u001b[0;36m100\u001b[0m\u001b[0;34m\u001b[0m\u001b[0;34m\u001b[0m\u001b[0m\n",
            "\u001b[0;32m<ipython-input-28-ad4cfd70cb41>\u001b[0m in \u001b[0;36mset_training_period\u001b[0;34m(self)\u001b[0m\n\u001b[1;32m     29\u001b[0m   \u001b[0;32mdef\u001b[0m \u001b[0mset_training_period\u001b[0m\u001b[0;34m(\u001b[0m\u001b[0mself\u001b[0m\u001b[0;34m)\u001b[0m\u001b[0;34m:\u001b[0m\u001b[0;34m\u001b[0m\u001b[0;34m\u001b[0m\u001b[0m\n\u001b[1;32m     30\u001b[0m     \u001b[0mself\u001b[0m\u001b[0;34m.\u001b[0m\u001b[0mtraining_end\u001b[0m\u001b[0;34m=\u001b[0m\u001b[0;34m(\u001b[0m\u001b[0mself\u001b[0m\u001b[0;34m.\u001b[0m\u001b[0mstart_date\u001b[0m \u001b[0;34m-\u001b[0m \u001b[0mrelativedelta\u001b[0m\u001b[0;34m(\u001b[0m\u001b[0mmonths\u001b[0m\u001b[0;34m=\u001b[0m\u001b[0;34m-\u001b[0m\u001b[0;34m(\u001b[0m\u001b[0mself\u001b[0m\u001b[0;34m.\u001b[0m\u001b[0mbacktest_mons\u001b[0m\u001b[0;34m-\u001b[0m\u001b[0mself\u001b[0m\u001b[0;34m.\u001b[0m\u001b[0mtest_mons\u001b[0m\u001b[0;34m)\u001b[0m\u001b[0;34m)\u001b[0m\u001b[0;34m)\u001b[0m\u001b[0;34m.\u001b[0m\u001b[0mreplace\u001b[0m\u001b[0;34m(\u001b[0m\u001b[0mday\u001b[0m\u001b[0;34m=\u001b[0m\u001b[0;36m1\u001b[0m\u001b[0;34m)\u001b[0m \u001b[0;31m#training start is the same as start date.\u001b[0m\u001b[0;34m\u001b[0m\u001b[0;34m\u001b[0m\u001b[0m\n\u001b[0;32m---> 31\u001b[0;31m     \u001b[0mself\u001b[0m\u001b[0;34m.\u001b[0m\u001b[0mtraining_end\u001b[0m\u001b[0;34m=\u001b[0m \u001b[0mself\u001b[0m\u001b[0;34m.\u001b[0m\u001b[0mlast_day_month\u001b[0m\u001b[0;34m(\u001b[0m\u001b[0mself\u001b[0m\u001b[0;34m.\u001b[0m\u001b[0mtraining_end\u001b[0m\u001b[0;34m)\u001b[0m\u001b[0;34m\u001b[0m\u001b[0;34m\u001b[0m\u001b[0m\n\u001b[0m\u001b[1;32m     32\u001b[0m     \u001b[0mself\u001b[0m\u001b[0;34m.\u001b[0m\u001b[0mtraining_end_str\u001b[0m\u001b[0;34m=\u001b[0m\u001b[0mself\u001b[0m\u001b[0;34m.\u001b[0m\u001b[0mtraining_end\u001b[0m\u001b[0;34m.\u001b[0m\u001b[0mstrftime\u001b[0m\u001b[0;34m(\u001b[0m\u001b[0;34m'%Y-%m-%d'\u001b[0m\u001b[0;34m)\u001b[0m\u001b[0;34m\u001b[0m\u001b[0;34m\u001b[0m\u001b[0m\n\u001b[1;32m     33\u001b[0m     \u001b[0mmask\u001b[0m\u001b[0;34m=\u001b[0m\u001b[0;34m(\u001b[0m\u001b[0mself\u001b[0m\u001b[0;34m.\u001b[0m\u001b[0mstocks_df\u001b[0m\u001b[0;34m.\u001b[0m\u001b[0mindex\u001b[0m \u001b[0;34m>=\u001b[0m \u001b[0mself\u001b[0m\u001b[0;34m.\u001b[0m\u001b[0mstart_date_str\u001b[0m\u001b[0;34m)\u001b[0m \u001b[0;34m&\u001b[0m \u001b[0;34m(\u001b[0m\u001b[0mself\u001b[0m\u001b[0;34m.\u001b[0m\u001b[0mstocks_df\u001b[0m\u001b[0;34m.\u001b[0m\u001b[0mindex\u001b[0m \u001b[0;34m<=\u001b[0m \u001b[0mself\u001b[0m\u001b[0;34m.\u001b[0m\u001b[0mtraining_end_str\u001b[0m\u001b[0;34m)\u001b[0m \u001b[0;31m#rename downloaded dataframe\u001b[0m\u001b[0;34m\u001b[0m\u001b[0;34m\u001b[0m\u001b[0m\n",
            "\u001b[0;31mTypeError\u001b[0m: last_day_month() takes 1 positional argument but 2 were given"
          ]
        }
      ],
      "source": [
        "data_ch2=Data_download_processing(12,4,\"IGM,XSW,ISCV\")\n",
        "data_ch2.get_stock_data()\n",
        "data_ch_train=data_ch2.set_training_period()\n",
        "data_ch_test=data_ch2.set_test_period()\n",
        "daily_returns = data_ch_test.iloc[0:].pct_change()*100"
      ]
    },
    {
      "cell_type": "code",
      "execution_count": 36,
      "metadata": {},
      "outputs": [
        {
          "output_type": "error",
          "ename": "IndentationError",
          "evalue": "unexpected indent (<ipython-input-36-6e16989e6c85>, line 2)",
          "traceback": [
            "\u001b[0;36m  File \u001b[0;32m\"<ipython-input-36-6e16989e6c85>\"\u001b[0;36m, line \u001b[0;32m2\u001b[0m\n\u001b[0;31m    portfolio_std = []\u001b[0m\n\u001b[0m    ^\u001b[0m\n\u001b[0;31mIndentationError\u001b[0m\u001b[0;31m:\u001b[0m unexpected indent\n"
          ]
        }
      ],
      "source": [
        "daily_std = daily_returns.std()\n",
        "    portfolio_std = []\n",
        "    weightage = list(self.portfolio_weights.values())\n",
        "    for i in range(len(self.daily_std)):\n",
        "      portfolio_std.append(weightage[i]*self.daily_std[i])\n",
        "    annualized_std = sum(portfolio_std) * 252 ** 0.5\n",
        "    return annualized_std"
      ]
    },
    {
      "cell_type": "code",
      "execution_count": null,
      "metadata": {},
      "outputs": [],
      "source": []
    }
  ]
}